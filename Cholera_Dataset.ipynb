{
  "nbformat": 4,
  "nbformat_minor": 0,
  "metadata": {
    "colab": {
      "provenance": []
    },
    "kernelspec": {
      "name": "python3",
      "display_name": "Python 3"
    },
    "language_info": {
      "name": "python"
    }
  },
  "cells": [
    {
      "cell_type": "code",
      "execution_count": 1,
      "metadata": {
        "colab": {
          "base_uri": "https://localhost:8080/"
        },
        "id": "Ufpd3koL0G1e",
        "outputId": "6fddb7da-02d4-4d61-ab15-ff3d858df011"
      },
      "outputs": [
        {
          "output_type": "stream",
          "name": "stdout",
          "text": [
            "Reading package lists... Done\n",
            "Building dependency tree... Done\n",
            "Reading state information... Done\n",
            "r-base is already the newest version (4.4.3-1.2204.0).\n",
            "0 upgraded, 0 newly installed, 0 to remove and 29 not upgraded.\n"
          ]
        }
      ],
      "source": [
        "!apt-get install -y r-base"
      ]
    },
    {
      "cell_type": "code",
      "source": [
        "!R --version"
      ],
      "metadata": {
        "colab": {
          "base_uri": "https://localhost:8080/"
        },
        "id": "f-KQp6wG0MEB",
        "outputId": "dacaf7c3-af47-438a-e6ea-514a898eda76"
      },
      "execution_count": 4,
      "outputs": [
        {
          "output_type": "stream",
          "name": "stdout",
          "text": [
            "R version 4.4.3 (2025-02-28) -- \"Trophy Case\"\n",
            "Copyright (C) 2025 The R Foundation for Statistical Computing\n",
            "Platform: x86_64-pc-linux-gnu\n",
            "\n",
            "R is free software and comes with ABSOLUTELY NO WARRANTY.\n",
            "You are welcome to redistribute it under the terms of the\n",
            "GNU General Public License versions 2 or 3.\n",
            "For more information about these matters see\n",
            "https://www.gnu.org/licenses/.\n",
            "\n"
          ]
        }
      ]
    },
    {
      "cell_type": "code",
      "source": [
        "!apt-get install -y r-base"
      ],
      "metadata": {
        "colab": {
          "base_uri": "https://localhost:8080/"
        },
        "id": "LBn25o-F0jHF",
        "outputId": "50e7ad0d-ef11-431f-9991-18060752bffe"
      },
      "execution_count": 7,
      "outputs": [
        {
          "output_type": "stream",
          "name": "stdout",
          "text": [
            "Reading package lists... Done\n",
            "Building dependency tree... Done\n",
            "Reading state information... Done\n",
            "r-base is already the newest version (4.4.3-1.2204.0).\n",
            "0 upgraded, 0 newly installed, 0 to remove and 29 not upgraded.\n"
          ]
        }
      ]
    },
    {
      "cell_type": "code",
      "source": [
        "!pip install rpy2"
      ],
      "metadata": {
        "colab": {
          "base_uri": "https://localhost:8080/"
        },
        "id": "eInDqoci18pn",
        "outputId": "b1f66393-a62c-4698-d571-7e40e4828f1b"
      },
      "execution_count": 9,
      "outputs": [
        {
          "output_type": "stream",
          "name": "stdout",
          "text": [
            "Requirement already satisfied: rpy2 in /usr/local/lib/python3.11/dist-packages (3.5.17)\n",
            "Requirement already satisfied: cffi>=1.15.1 in /usr/local/lib/python3.11/dist-packages (from rpy2) (1.17.1)\n",
            "Requirement already satisfied: jinja2 in /usr/local/lib/python3.11/dist-packages (from rpy2) (3.1.6)\n",
            "Requirement already satisfied: tzlocal in /usr/local/lib/python3.11/dist-packages (from rpy2) (5.3.1)\n",
            "Requirement already satisfied: pycparser in /usr/local/lib/python3.11/dist-packages (from cffi>=1.15.1->rpy2) (2.22)\n",
            "Requirement already satisfied: MarkupSafe>=2.0 in /usr/local/lib/python3.11/dist-packages (from jinja2->rpy2) (3.0.2)\n"
          ]
        }
      ]
    },
    {
      "cell_type": "code",
      "source": [
        "%load_ext rpy2.ipython"
      ],
      "metadata": {
        "id": "v-DKgmEB1k75"
      },
      "execution_count": 10,
      "outputs": []
    },
    {
      "cell_type": "code",
      "source": [
        "%%R\n",
        "getwd()"
      ],
      "metadata": {
        "colab": {
          "base_uri": "https://localhost:8080/"
        },
        "id": "sAhfFbm72eDZ",
        "outputId": "849e1bea-e4de-46c5-ba3b-0dde9f59dffa"
      },
      "execution_count": 11,
      "outputs": [
        {
          "output_type": "stream",
          "name": "stdout",
          "text": [
            "[1] \"/content\"\n"
          ]
        }
      ]
    },
    {
      "cell_type": "code",
      "source": [
        "from google.colab import files\n",
        "uploaded = files.upload()"
      ],
      "metadata": {
        "colab": {
          "base_uri": "https://localhost:8080/",
          "height": 69
        },
        "id": "clJztX3w2icX",
        "outputId": "9b772cb5-19c0-4c9c-e0cc-45d4888b3c06"
      },
      "execution_count": 13,
      "outputs": [
        {
          "output_type": "display_data",
          "data": {
            "text/plain": [
              "<IPython.core.display.HTML object>"
            ],
            "text/html": [
              "\n",
              "     <input type=\"file\" id=\"files-34c5f955-fe5f-4a76-b33d-fb8c8d98cfea\" name=\"files[]\" multiple disabled\n",
              "        style=\"border:none\" />\n",
              "     <output id=\"result-34c5f955-fe5f-4a76-b33d-fb8c8d98cfea\">\n",
              "      Upload widget is only available when the cell has been executed in the\n",
              "      current browser session. Please rerun this cell to enable.\n",
              "      </output>\n",
              "      <script>// Copyright 2017 Google LLC\n",
              "//\n",
              "// Licensed under the Apache License, Version 2.0 (the \"License\");\n",
              "// you may not use this file except in compliance with the License.\n",
              "// You may obtain a copy of the License at\n",
              "//\n",
              "//      http://www.apache.org/licenses/LICENSE-2.0\n",
              "//\n",
              "// Unless required by applicable law or agreed to in writing, software\n",
              "// distributed under the License is distributed on an \"AS IS\" BASIS,\n",
              "// WITHOUT WARRANTIES OR CONDITIONS OF ANY KIND, either express or implied.\n",
              "// See the License for the specific language governing permissions and\n",
              "// limitations under the License.\n",
              "\n",
              "/**\n",
              " * @fileoverview Helpers for google.colab Python module.\n",
              " */\n",
              "(function(scope) {\n",
              "function span(text, styleAttributes = {}) {\n",
              "  const element = document.createElement('span');\n",
              "  element.textContent = text;\n",
              "  for (const key of Object.keys(styleAttributes)) {\n",
              "    element.style[key] = styleAttributes[key];\n",
              "  }\n",
              "  return element;\n",
              "}\n",
              "\n",
              "// Max number of bytes which will be uploaded at a time.\n",
              "const MAX_PAYLOAD_SIZE = 100 * 1024;\n",
              "\n",
              "function _uploadFiles(inputId, outputId) {\n",
              "  const steps = uploadFilesStep(inputId, outputId);\n",
              "  const outputElement = document.getElementById(outputId);\n",
              "  // Cache steps on the outputElement to make it available for the next call\n",
              "  // to uploadFilesContinue from Python.\n",
              "  outputElement.steps = steps;\n",
              "\n",
              "  return _uploadFilesContinue(outputId);\n",
              "}\n",
              "\n",
              "// This is roughly an async generator (not supported in the browser yet),\n",
              "// where there are multiple asynchronous steps and the Python side is going\n",
              "// to poll for completion of each step.\n",
              "// This uses a Promise to block the python side on completion of each step,\n",
              "// then passes the result of the previous step as the input to the next step.\n",
              "function _uploadFilesContinue(outputId) {\n",
              "  const outputElement = document.getElementById(outputId);\n",
              "  const steps = outputElement.steps;\n",
              "\n",
              "  const next = steps.next(outputElement.lastPromiseValue);\n",
              "  return Promise.resolve(next.value.promise).then((value) => {\n",
              "    // Cache the last promise value to make it available to the next\n",
              "    // step of the generator.\n",
              "    outputElement.lastPromiseValue = value;\n",
              "    return next.value.response;\n",
              "  });\n",
              "}\n",
              "\n",
              "/**\n",
              " * Generator function which is called between each async step of the upload\n",
              " * process.\n",
              " * @param {string} inputId Element ID of the input file picker element.\n",
              " * @param {string} outputId Element ID of the output display.\n",
              " * @return {!Iterable<!Object>} Iterable of next steps.\n",
              " */\n",
              "function* uploadFilesStep(inputId, outputId) {\n",
              "  const inputElement = document.getElementById(inputId);\n",
              "  inputElement.disabled = false;\n",
              "\n",
              "  const outputElement = document.getElementById(outputId);\n",
              "  outputElement.innerHTML = '';\n",
              "\n",
              "  const pickedPromise = new Promise((resolve) => {\n",
              "    inputElement.addEventListener('change', (e) => {\n",
              "      resolve(e.target.files);\n",
              "    });\n",
              "  });\n",
              "\n",
              "  const cancel = document.createElement('button');\n",
              "  inputElement.parentElement.appendChild(cancel);\n",
              "  cancel.textContent = 'Cancel upload';\n",
              "  const cancelPromise = new Promise((resolve) => {\n",
              "    cancel.onclick = () => {\n",
              "      resolve(null);\n",
              "    };\n",
              "  });\n",
              "\n",
              "  // Wait for the user to pick the files.\n",
              "  const files = yield {\n",
              "    promise: Promise.race([pickedPromise, cancelPromise]),\n",
              "    response: {\n",
              "      action: 'starting',\n",
              "    }\n",
              "  };\n",
              "\n",
              "  cancel.remove();\n",
              "\n",
              "  // Disable the input element since further picks are not allowed.\n",
              "  inputElement.disabled = true;\n",
              "\n",
              "  if (!files) {\n",
              "    return {\n",
              "      response: {\n",
              "        action: 'complete',\n",
              "      }\n",
              "    };\n",
              "  }\n",
              "\n",
              "  for (const file of files) {\n",
              "    const li = document.createElement('li');\n",
              "    li.append(span(file.name, {fontWeight: 'bold'}));\n",
              "    li.append(span(\n",
              "        `(${file.type || 'n/a'}) - ${file.size} bytes, ` +\n",
              "        `last modified: ${\n",
              "            file.lastModifiedDate ? file.lastModifiedDate.toLocaleDateString() :\n",
              "                                    'n/a'} - `));\n",
              "    const percent = span('0% done');\n",
              "    li.appendChild(percent);\n",
              "\n",
              "    outputElement.appendChild(li);\n",
              "\n",
              "    const fileDataPromise = new Promise((resolve) => {\n",
              "      const reader = new FileReader();\n",
              "      reader.onload = (e) => {\n",
              "        resolve(e.target.result);\n",
              "      };\n",
              "      reader.readAsArrayBuffer(file);\n",
              "    });\n",
              "    // Wait for the data to be ready.\n",
              "    let fileData = yield {\n",
              "      promise: fileDataPromise,\n",
              "      response: {\n",
              "        action: 'continue',\n",
              "      }\n",
              "    };\n",
              "\n",
              "    // Use a chunked sending to avoid message size limits. See b/62115660.\n",
              "    let position = 0;\n",
              "    do {\n",
              "      const length = Math.min(fileData.byteLength - position, MAX_PAYLOAD_SIZE);\n",
              "      const chunk = new Uint8Array(fileData, position, length);\n",
              "      position += length;\n",
              "\n",
              "      const base64 = btoa(String.fromCharCode.apply(null, chunk));\n",
              "      yield {\n",
              "        response: {\n",
              "          action: 'append',\n",
              "          file: file.name,\n",
              "          data: base64,\n",
              "        },\n",
              "      };\n",
              "\n",
              "      let percentDone = fileData.byteLength === 0 ?\n",
              "          100 :\n",
              "          Math.round((position / fileData.byteLength) * 100);\n",
              "      percent.textContent = `${percentDone}% done`;\n",
              "\n",
              "    } while (position < fileData.byteLength);\n",
              "  }\n",
              "\n",
              "  // All done.\n",
              "  yield {\n",
              "    response: {\n",
              "      action: 'complete',\n",
              "    }\n",
              "  };\n",
              "}\n",
              "\n",
              "scope.google = scope.google || {};\n",
              "scope.google.colab = scope.google.colab || {};\n",
              "scope.google.colab._files = {\n",
              "  _uploadFiles,\n",
              "  _uploadFilesContinue,\n",
              "};\n",
              "})(self);\n",
              "</script> "
            ]
          },
          "metadata": {}
        },
        {
          "output_type": "stream",
          "name": "stdout",
          "text": [
            "Saving cholera_dataset.csv to cholera_dataset (1).csv\n"
          ]
        }
      ]
    },
    {
      "cell_type": "code",
      "source": [
        "!ls /content"
      ],
      "metadata": {
        "colab": {
          "base_uri": "https://localhost:8080/"
        },
        "id": "slpvK0l_2-P3",
        "outputId": "db73d044-12a2-4870-d093-26c8b0767251"
      },
      "execution_count": 14,
      "outputs": [
        {
          "output_type": "stream",
          "name": "stdout",
          "text": [
            "'cholera_dataset (1).csv'   cholera_dataset.csv   sample_data\n"
          ]
        }
      ]
    },
    {
      "cell_type": "code",
      "source": [
        "#uploading of the file"
      ],
      "metadata": {
        "id": "yM5unAjr3Rqq"
      },
      "execution_count": 15,
      "outputs": []
    },
    {
      "cell_type": "markdown",
      "source": [
        "##1.\tStandardize the variable names and assign it to an object name: clean_data"
      ],
      "metadata": {
        "id": "xRo_FXR-B4vZ"
      }
    },
    {
      "cell_type": "code",
      "source": [
        "%%R\n",
        "install.packages(\"janitor\")\n",
        "install.packages(\"readr\")\n",
        "library(readr)\n",
        "library(janitor)\n",
        "cholera_data <- read_csv(\"/content/cholera_dataset.csv\")\n",
        "\n",
        "#standardize variable names (convert to lowercase and remove special characters)\n",
        "clean_data <- cholera_data %>%\n",
        "  clean_names()\n",
        "\n",
        "print(head(clean_data))"
      ],
      "metadata": {
        "colab": {
          "base_uri": "https://localhost:8080/",
          "height": 816
        },
        "id": "Je6iPvum3gdn",
        "outputId": "7948d5d8-5a18-4d25-f8c7-9b3c4057913f"
      },
      "execution_count": 19,
      "outputs": [
        {
          "output_type": "stream",
          "name": "stdout",
          "text": [
            "Rows: 132 Columns: 9\n",
            "── Column specification ────────────────────────────────────────────────────────\n",
            "Delimiter: \",\"\n",
            "chr (6): Gender, Type of Water, Sanitation Facility, Education Level, Choler...\n",
            "dbl (3): Age (years), Duration of Symptoms (days), Distance to water source\n",
            "\n",
            "ℹ Use `spec()` to retrieve the full column specification for this data.\n",
            "ℹ Specify the column types or set `show_col_types = FALSE` to quiet this message.\n",
            "# A tibble: 6 × 9\n",
            "  age_years duration_of_symptoms_d…¹ distance_to_water_so…² gender type_of_water\n",
            "      <dbl>                    <dbl>                  <dbl> <chr>  <chr>        \n",
            "1        NA                        3                      6 Male   Tap          \n",
            "2        64                       12                      6 Female River        \n",
            "3        NA                       14                      6 Male   River        \n",
            "4        52                        5                      1 Male   Tap          \n",
            "5        79                        8                      9 Male   Well         \n",
            "6        72                        8                      6 Female Riverin      \n",
            "# ℹ abbreviated names: ¹​duration_of_symptoms_days, ²​distance_to_water_source\n",
            "# ℹ 4 more variables: sanitation_facility <chr>, education_level <chr>,\n",
            "#   cholera_vaccination <chr>, region <chr>\n"
          ]
        },
        {
          "output_type": "display_data",
          "data": {
            "text/plain": [
              "Installing package into ‘/usr/local/lib/R/site-library’\n",
              "(as ‘lib’ is unspecified)\n",
              "trying URL 'https://cran.rstudio.com/src/contrib/janitor_2.2.1.tar.gz'\n",
              "Content type 'application/x-gzip' length 232988 bytes (227 KB)\n",
              "==================================================\n",
              "downloaded 227 KB\n",
              "\n",
              "\n",
              "The downloaded source packages are in\n",
              "\t‘/tmp/RtmpoiaZr7/downloaded_packages’\n",
              "Installing package into ‘/usr/local/lib/R/site-library’\n",
              "(as ‘lib’ is unspecified)\n",
              "trying URL 'https://cran.rstudio.com/src/contrib/readr_2.1.5.tar.gz'\n",
              "Content type 'application/x-gzip' length 298065 bytes (291 KB)\n",
              "==================================================\n",
              "downloaded 291 KB\n",
              "\n",
              "\n",
              "The downloaded source packages are in\n",
              "\t‘/tmp/RtmpoiaZr7/downloaded_packages’\n",
              "\n",
              "Attaching package: ‘janitor’\n",
              "\n",
              "The following objects are masked from ‘package:stats’:\n",
              "\n",
              "    chisq.test, fisher.test\n",
              "\n"
            ]
          },
          "metadata": {}
        }
      ]
    },
    {
      "cell_type": "code",
      "source": [
        "%%R\n",
        "head(clean_data)"
      ],
      "metadata": {
        "colab": {
          "base_uri": "https://localhost:8080/"
        },
        "id": "5dyyKY1D4Byc",
        "outputId": "337f7a3b-646f-492c-9c63-f65515994cb8"
      },
      "execution_count": 22,
      "outputs": [
        {
          "output_type": "stream",
          "name": "stdout",
          "text": [
            "# A tibble: 6 × 9\n",
            "  age_years duration_of_symptoms_d…¹ distance_to_water_so…² gender type_of_water\n",
            "      <dbl>                    <dbl>                  <dbl> <chr>  <chr>        \n",
            "1        NA                        3                      6 Male   Tap          \n",
            "2        64                       12                      6 Female River        \n",
            "3        NA                       14                      6 Male   River        \n",
            "4        52                        5                      1 Male   Tap          \n",
            "5        79                        8                      9 Male   Well         \n",
            "6        72                        8                      6 Female Riverin      \n",
            "# ℹ abbreviated names: ¹​duration_of_symptoms_days, ²​distance_to_water_source\n",
            "# ℹ 4 more variables: sanitation_facility <chr>, education_level <chr>,\n",
            "#   cholera_vaccination <chr>, region <chr>\n"
          ]
        }
      ]
    },
    {
      "cell_type": "markdown",
      "source": [
        "##2.\tUsing the clean_data dataset, do the following:\n",
        "a.\tRename the following variables – <br>\n",
        "i.\tsanitation facility to toilet, <br>\n",
        "ii.\tcholera vaccination to immunization, <br>\n",
        "iii.\tregion to territory.\n"
      ],
      "metadata": {
        "id": "AGUlBJhlCHva"
      }
    },
    {
      "cell_type": "code",
      "source": [
        "%%R\n",
        "library(dplyr)\n",
        "library(janitor)\n",
        "\n",
        "#renaming of the variables\n",
        "clean_data <- clean_data %>%\n",
        "  rename(\n",
        "    toilet = sanitation_facility,\n",
        "    immunization = cholera_vaccination,\n",
        "    territory = region\n",
        "  )\n",
        "\n",
        "#check the renamed dataset\n",
        "print(head(clean_data))"
      ],
      "metadata": {
        "colab": {
          "base_uri": "https://localhost:8080/",
          "height": 408
        },
        "id": "vEM8pTuh5Eor",
        "outputId": "fd621ba5-23e5-4f40-d9d6-89832febe2e0"
      },
      "execution_count": 25,
      "outputs": [
        {
          "output_type": "stream",
          "name": "stdout",
          "text": [
            "# A tibble: 6 × 9\n",
            "  age_years duration_of_symptoms_d…¹ distance_to_water_so…² gender type_of_water\n",
            "      <dbl>                    <dbl>                  <dbl> <chr>  <chr>        \n",
            "1        NA                        3                      6 Male   Tap          \n",
            "2        64                       12                      6 Female River        \n",
            "3        NA                       14                      6 Male   River        \n",
            "4        52                        5                      1 Male   Tap          \n",
            "5        79                        8                      9 Male   Well         \n",
            "6        72                        8                      6 Female Riverin      \n",
            "# ℹ abbreviated names: ¹​duration_of_symptoms_days, ²​distance_to_water_source\n",
            "# ℹ 4 more variables: toilet <chr>, education_level <chr>, immunization <chr>,\n",
            "#   territory <chr>\n"
          ]
        },
        {
          "output_type": "display_data",
          "data": {
            "text/plain": [
              "\n",
              "Attaching package: ‘dplyr’\n",
              "\n",
              "The following objects are masked from ‘package:stats’:\n",
              "\n",
              "    filter, lag\n",
              "\n",
              "The following objects are masked from ‘package:base’:\n",
              "\n",
              "    intersect, setdiff, setequal, union\n",
              "\n"
            ]
          },
          "metadata": {}
        }
      ]
    },
    {
      "cell_type": "code",
      "source": [
        "%%R\n",
        "#confirming if the variables have effected the change\n",
        "colnames(clean_data)"
      ],
      "metadata": {
        "colab": {
          "base_uri": "https://localhost:8080/"
        },
        "id": "gu_IVu3765e-",
        "outputId": "fd85ab77-12cc-442a-b5be-2811e41c94f9"
      },
      "execution_count": 27,
      "outputs": [
        {
          "output_type": "stream",
          "name": "stdout",
          "text": [
            "[1] \"age_years\"                 \"duration_of_symptoms_days\"\n",
            "[3] \"distance_to_water_source\"  \"gender\"                   \n",
            "[5] \"type_of_water\"             \"toilet\"                   \n",
            "[7] \"education_level\"           \"immunization\"             \n",
            "[9] \"territory\"                \n"
          ]
        }
      ]
    },
    {
      "cell_type": "markdown",
      "source": [
        "b.\tSelect the following columns – <br>\n",
        "i.\tthe first five variables, <br>\n",
        "ii.\tvariables 3, 5, and 8, <br>\n",
        "iii.\tvariables that contains “s”\n"
      ],
      "metadata": {
        "id": "c4FH2hVuCTp6"
      }
    },
    {
      "cell_type": "code",
      "source": [
        "%%R\n",
        "#first five variables selection\n",
        "first_five <- clean_data[, 1:5]\n",
        "print(first_five)"
      ],
      "metadata": {
        "colab": {
          "base_uri": "https://localhost:8080/"
        },
        "id": "uqGuhabC6tqs",
        "outputId": "e7096bc9-62b9-4653-c669-73dab1a6b7c3"
      },
      "execution_count": 28,
      "outputs": [
        {
          "output_type": "stream",
          "name": "stdout",
          "text": [
            "# A tibble: 132 × 5\n",
            "   age_years duration_of_symptoms_…¹ distance_to_water_so…² gender type_of_water\n",
            "       <dbl>                   <dbl>                  <dbl> <chr>  <chr>        \n",
            " 1        NA                       3                      6 Male   Tap          \n",
            " 2        64                      12                      6 Female River        \n",
            " 3        NA                      14                      6 Male   River        \n",
            " 4        52                       5                      1 Male   Tap          \n",
            " 5        79                       8                      9 Male   Well         \n",
            " 6        72                       8                      6 Female Riverin      \n",
            " 7        71                       8                     11 Male   Bottled      \n",
            " 8        54                       9                      3 Female Bottled      \n",
            " 9        27                       4                      2 Male   River        \n",
            "10        45                      13                      7 Female River        \n",
            "# ℹ 122 more rows\n",
            "# ℹ abbreviated names: ¹​duration_of_symptoms_days, ²​distance_to_water_source\n",
            "# ℹ Use `print(n = ...)` to see more rows\n"
          ]
        }
      ]
    },
    {
      "cell_type": "code",
      "source": [
        "%%R\n",
        "#selecting varables 3,5 and 8\n",
        "selected_variables <- clean_data[, c(3, 5, 8)]\n",
        "print(selected_variables)"
      ],
      "metadata": {
        "colab": {
          "base_uri": "https://localhost:8080/"
        },
        "id": "_VCZjC4S7Ykr",
        "outputId": "95181e38-cb22-4ab1-dca5-dfeda425b2d3"
      },
      "execution_count": 29,
      "outputs": [
        {
          "output_type": "stream",
          "name": "stdout",
          "text": [
            "# A tibble: 132 × 3\n",
            "   distance_to_water_source type_of_water immunization\n",
            "                      <dbl> <chr>         <chr>       \n",
            " 1                        6 Tap           Yes         \n",
            " 2                        6 River         No          \n",
            " 3                        6 River         Yes         \n",
            " 4                        1 Tap           No          \n",
            " 5                        9 Well          Yes         \n",
            " 6                        6 Riverin       Yeah        \n",
            " 7                       11 Bottled       Yes         \n",
            " 8                        3 Bottled       Yes         \n",
            " 9                        2 River         no          \n",
            "10                        7 River         No          \n",
            "# ℹ 122 more rows\n",
            "# ℹ Use `print(n = ...)` to see more rows\n"
          ]
        }
      ]
    },
    {
      "cell_type": "code",
      "source": [
        "%%R\n",
        "#variables that contain \"S\"\n",
        "S_variables <- clean_data %>%\n",
        "  select(contains(\"S\"))\n",
        "\n",
        "print(S_variables)"
      ],
      "metadata": {
        "colab": {
          "base_uri": "https://localhost:8080/"
        },
        "id": "yPJagBhr7kvT",
        "outputId": "6f35e128-18e4-49ef-a622-bc6c0eabcbf4"
      },
      "execution_count": 30,
      "outputs": [
        {
          "output_type": "stream",
          "name": "stdout",
          "text": [
            "# A tibble: 132 × 3\n",
            "   age_years duration_of_symptoms_days distance_to_water_source\n",
            "       <dbl>                     <dbl>                    <dbl>\n",
            " 1        NA                         3                        6\n",
            " 2        64                        12                        6\n",
            " 3        NA                        14                        6\n",
            " 4        52                         5                        1\n",
            " 5        79                         8                        9\n",
            " 6        72                         8                        6\n",
            " 7        71                         8                       11\n",
            " 8        54                         9                        3\n",
            " 9        27                         4                        2\n",
            "10        45                        13                        7\n",
            "# ℹ 122 more rows\n",
            "# ℹ Use `print(n = ...)` to see more rows\n"
          ]
        }
      ]
    },
    {
      "cell_type": "markdown",
      "source": [
        "c.\tFilter rows that satisfy the following conditions –<br>\n",
        "i.\t individuals living in Rural region, <br>\n",
        "ii.\tfemales with either secondary or tertiary education <br>\n",
        "iii.\tindividuals who use taps that are less than 6meters from their house.\n"
      ],
      "metadata": {
        "id": "DYTN6ESJCiOj"
      }
    },
    {
      "cell_type": "code",
      "source": [
        "%%R\n",
        "#filtering rows that live in rural regions\n",
        "rural_regions <- clean_data %>%\n",
        "  filter(territory == \"Rural\")\n",
        "\n",
        "print(rural_regions)"
      ],
      "metadata": {
        "colab": {
          "base_uri": "https://localhost:8080/"
        },
        "id": "sIYJWMsm7tYB",
        "outputId": "9d07c767-6bbd-4fb6-d3a8-29e4e6f9590b"
      },
      "execution_count": 31,
      "outputs": [
        {
          "output_type": "stream",
          "name": "stdout",
          "text": [
            "# A tibble: 59 × 9\n",
            "   age_years duration_of_symptoms_…¹ distance_to_water_so…² gender type_of_water\n",
            "       <dbl>                   <dbl>                  <dbl> <chr>  <chr>        \n",
            " 1        64                      12                      6 Female River        \n",
            " 2        79                       8                      9 Male   Well         \n",
            " 3        71                       8                     11 Male   Bottled      \n",
            " 4        27                       4                      2 Male   River        \n",
            " 5        45                      13                      7 Female River        \n",
            " 6        26                       7                      5 Female River        \n",
            " 7        40                      10                      7 Male   Botle        \n",
            " 8        38                      NA                      3 Male   Bottled      \n",
            " 9        76                      16                      7 Male   River        \n",
            "10         3                       4                      3 Male   Well         \n",
            "# ℹ 49 more rows\n",
            "# ℹ abbreviated names: ¹​duration_of_symptoms_days, ²​distance_to_water_source\n",
            "# ℹ 4 more variables: toilet <chr>, education_level <chr>, immunization <chr>,\n",
            "#   territory <chr>\n",
            "# ℹ Use `print(n = ...)` to see more rows\n"
          ]
        }
      ]
    },
    {
      "cell_type": "code",
      "source": [
        "%%R\n",
        "#filtering rows of females with either secondary or tertiary education\n",
        "educated_females <- clean_data %>%\n",
        "  filter(gender == \"Female\" & education_level %in% c(\"Secondary\", \"Tertiary\"))\n",
        "\n",
        "print(head(educated_females))"
      ],
      "metadata": {
        "colab": {
          "base_uri": "https://localhost:8080/"
        },
        "id": "8nMfsP048Ask",
        "outputId": "513d190b-bb4e-4938-e7d3-cd0437c79531"
      },
      "execution_count": 37,
      "outputs": [
        {
          "output_type": "stream",
          "name": "stdout",
          "text": [
            "# A tibble: 6 × 9\n",
            "  age_years duration_of_symptoms_d…¹ distance_to_water_so…² gender type_of_water\n",
            "      <dbl>                    <dbl>                  <dbl> <chr>  <chr>        \n",
            "1        64                       12                      6 Female River        \n",
            "2        72                        8                      6 Female Riverin      \n",
            "3        54                        9                      3 Female Bottled      \n",
            "4         8                        4                      5 Female River        \n",
            "5        61                       13                      0 Female Bottled      \n",
            "6        NA                       17                      4 Female Bottled      \n",
            "# ℹ abbreviated names: ¹​duration_of_symptoms_days, ²​distance_to_water_source\n",
            "# ℹ 4 more variables: toilet <chr>, education_level <chr>, immunization <chr>,\n",
            "#   territory <chr>\n"
          ]
        }
      ]
    },
    {
      "cell_type": "code",
      "source": [
        "%%R\n",
        "#filtering individuals who use taps that are less than 6 meters from their house\n",
        "nearby_taps <- clean_data %>%\n",
        "  filter(type_of_water == \"Tap\" & distance_to_water_source < 6)\n",
        "\n",
        "print(head(nearby_taps))"
      ],
      "metadata": {
        "colab": {
          "base_uri": "https://localhost:8080/"
        },
        "id": "EvHTkLHy8Np3",
        "outputId": "653971b3-e08f-4c41-dc86-07cbf8aa25e8"
      },
      "execution_count": 39,
      "outputs": [
        {
          "output_type": "stream",
          "name": "stdout",
          "text": [
            "# A tibble: 6 × 9\n",
            "  age_years duration_of_symptoms_d…¹ distance_to_water_so…² gender type_of_water\n",
            "      <dbl>                    <dbl>                  <dbl> <chr>  <chr>        \n",
            "1        52                        5                      1 Male   Tap          \n",
            "2        12                        9                      3 Male   Tap          \n",
            "3         8                       10                      4 Female Tap          \n",
            "4        35                        9                      5 Female Tap          \n",
            "5        51                        9                      5 Female Tap          \n",
            "6        11                       11                      4 Female Tap          \n",
            "# ℹ abbreviated names: ¹​duration_of_symptoms_days, ²​distance_to_water_source\n",
            "# ℹ 4 more variables: toilet <chr>, education_level <chr>, immunization <chr>,\n",
            "#   territory <chr>\n"
          ]
        }
      ]
    },
    {
      "cell_type": "markdown",
      "source": [
        "d.\tIn the – <br>\n",
        "i.\ttype of water variable, change Tap to Pure, <br>\n",
        "ii.\teducation level variable change None to Illiterate\n"
      ],
      "metadata": {
        "id": "rfEVK0INCv3K"
      }
    },
    {
      "cell_type": "code",
      "source": [
        "%%R\n",
        "#changing \"Tap\" to \"Pure\" in the \"type_of_water\" variable\n",
        "clean_data$type_of_water <- gsub(\"Tap\", \"Pure\", clean_data$type_of_water)\n",
        "\n",
        "#changing \"None\" to \"Illiterate\" in the \"education_level\" variable\n",
        "clean_data$education_level <- gsub(\"None\", \"Illiterate\", clean_data$education_level)\n",
        "\n",
        "# Viewing the updated dataset\n",
        "print(head(clean_data))\n"
      ],
      "metadata": {
        "colab": {
          "base_uri": "https://localhost:8080/"
        },
        "id": "sgSUiRh-9eef",
        "outputId": "3f0919e8-156d-4e94-ac7e-a367eea1ef20"
      },
      "execution_count": 40,
      "outputs": [
        {
          "output_type": "stream",
          "name": "stdout",
          "text": [
            "# A tibble: 6 × 9\n",
            "  age_years duration_of_symptoms_d…¹ distance_to_water_so…² gender type_of_water\n",
            "      <dbl>                    <dbl>                  <dbl> <chr>  <chr>        \n",
            "1        NA                        3                      6 Male   Pure         \n",
            "2        64                       12                      6 Female River        \n",
            "3        NA                       14                      6 Male   River        \n",
            "4        52                        5                      1 Male   Pure         \n",
            "5        79                        8                      9 Male   Well         \n",
            "6        72                        8                      6 Female Riverin      \n",
            "# ℹ abbreviated names: ¹​duration_of_symptoms_days, ²​distance_to_water_source\n",
            "# ℹ 4 more variables: toilet <chr>, education_level <chr>, immunization <chr>,\n",
            "#   territory <chr>\n"
          ]
        }
      ]
    },
    {
      "cell_type": "markdown",
      "source": [
        "e.\tCategorize the duration of symptoms variable into 2: acute and chronic, with acute denoting when duration of symptoms is less than 4 days"
      ],
      "metadata": {
        "id": "yv-CWahZAq64"
      }
    },
    {
      "cell_type": "code",
      "source": [
        "%%R\n",
        "clean_data$symptom_duration <- ifelse(clean_data$duration_of_symptoms_days < 4, \"Acute\", \"Chronic\")\n",
        "print(head(clean_data))"
      ],
      "metadata": {
        "colab": {
          "base_uri": "https://localhost:8080/"
        },
        "id": "ME2CM9fJ-F4x",
        "outputId": "3e5f4b3f-1000-4c1a-f842-9fdff8b3dae5"
      },
      "execution_count": 41,
      "outputs": [
        {
          "output_type": "stream",
          "name": "stdout",
          "text": [
            "# A tibble: 6 × 10\n",
            "  age_years duration_of_symptoms_d…¹ distance_to_water_so…² gender type_of_water\n",
            "      <dbl>                    <dbl>                  <dbl> <chr>  <chr>        \n",
            "1        NA                        3                      6 Male   Pure         \n",
            "2        64                       12                      6 Female River        \n",
            "3        NA                       14                      6 Male   River        \n",
            "4        52                        5                      1 Male   Pure         \n",
            "5        79                        8                      9 Male   Well         \n",
            "6        72                        8                      6 Female Riverin      \n",
            "# ℹ abbreviated names: ¹​duration_of_symptoms_days, ²​distance_to_water_source\n",
            "# ℹ 5 more variables: toilet <chr>, education_level <chr>, immunization <chr>,\n",
            "#   territory <chr>, symptom_duration <chr>\n"
          ]
        }
      ]
    },
    {
      "cell_type": "markdown",
      "source": [
        "f.\tCategorize the distance to water source into 4: very near, near, far and very far, with very near depicting distance of less than or equal to 3, near depicting between 4 and 6, far depicting between 7 and 9, and very far depicting between 10 and 12."
      ],
      "metadata": {
        "id": "ebF110R2A5ga"
      }
    },
    {
      "cell_type": "code",
      "source": [
        "%%R\n",
        "clean_data$water_distance_category <- cut(\n",
        "  clean_data$distance_to_water_source,\n",
        "  breaks = c(-Inf, 3, 6, 9, 12),\n",
        "  labels = c(\"Very Near\", \"Near\", \"Far\", \"Very Far\")\n",
        ")\n",
        "print(head(clean_data))"
      ],
      "metadata": {
        "colab": {
          "base_uri": "https://localhost:8080/"
        },
        "id": "zWzK39MdAuTS",
        "outputId": "8aa2ac2a-bacf-4eec-a004-463e9491a5dd"
      },
      "execution_count": 42,
      "outputs": [
        {
          "output_type": "stream",
          "name": "stdout",
          "text": [
            "# A tibble: 6 × 11\n",
            "  age_years duration_of_symptoms_d…¹ distance_to_water_so…² gender type_of_water\n",
            "      <dbl>                    <dbl>                  <dbl> <chr>  <chr>        \n",
            "1        NA                        3                      6 Male   Pure         \n",
            "2        64                       12                      6 Female River        \n",
            "3        NA                       14                      6 Male   River        \n",
            "4        52                        5                      1 Male   Pure         \n",
            "5        79                        8                      9 Male   Well         \n",
            "6        72                        8                      6 Female Riverin      \n",
            "# ℹ abbreviated names: ¹​duration_of_symptoms_days, ²​distance_to_water_source\n",
            "# ℹ 6 more variables: toilet <chr>, education_level <chr>, immunization <chr>,\n",
            "#   territory <chr>, symptom_duration <chr>, water_distance_category <fct>\n"
          ]
        }
      ]
    },
    {
      "cell_type": "markdown",
      "source": [
        "g.\tCategorize the age(years) variable into the following groups: 0 – 19, 20 – 39, 40 – 59, 60 – 79, 80 and above   "
      ],
      "metadata": {
        "id": "Ds8F-tPpBT5K"
      }
    },
    {
      "cell_type": "code",
      "source": [
        "%%R\n",
        "clean_data$age_group <- cut(\n",
        "  clean_data$age_years,\n",
        "  breaks = c(-Inf, 19, 39, 59, 79, Inf),\n",
        "  labels = c(\"0-19\", \"20-39\", \"40-59\", \"60-79\", \"80+\")\n",
        ")\n",
        "print(head(clean_data))"
      ],
      "metadata": {
        "colab": {
          "base_uri": "https://localhost:8080/"
        },
        "id": "hRvqlGIRA-8s",
        "outputId": "498e2154-d2b9-4c97-c4be-c8513dcf8bbb"
      },
      "execution_count": 43,
      "outputs": [
        {
          "output_type": "stream",
          "name": "stdout",
          "text": [
            "# A tibble: 6 × 12\n",
            "  age_years duration_of_symptoms_d…¹ distance_to_water_so…² gender type_of_water\n",
            "      <dbl>                    <dbl>                  <dbl> <chr>  <chr>        \n",
            "1        NA                        3                      6 Male   Pure         \n",
            "2        64                       12                      6 Female River        \n",
            "3        NA                       14                      6 Male   River        \n",
            "4        52                        5                      1 Male   Pure         \n",
            "5        79                        8                      9 Male   Well         \n",
            "6        72                        8                      6 Female Riverin      \n",
            "# ℹ abbreviated names: ¹​duration_of_symptoms_days, ²​distance_to_water_source\n",
            "# ℹ 7 more variables: toilet <chr>, education_level <chr>, immunization <chr>,\n",
            "#   territory <chr>, symptom_duration <chr>, water_distance_category <fct>,\n",
            "#   age_group <fct>\n"
          ]
        }
      ]
    }
  ]
}